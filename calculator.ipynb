{
 "cells": [
  {
   "cell_type": "code",
   "execution_count": 8,
   "id": "c3463677-d834-4440-8b32-f81a01571408",
   "metadata": {},
   "outputs": [
    {
     "name": "stdout",
     "output_type": "stream",
     "text": [
      "The Addition of a and b is = 2709\n",
      "The Substraction of a and b is = 209\n",
      "The Multiplication of a and b is = 1823750\n",
      "The Division of a and b is = 1.1672\n",
      "The Modulus of a and b is = 209\n",
      "The Floor division of a and b is = 1\n"
     ]
    }
   ],
   "source": [
    "a=1459\n",
    "b=1250\n",
    "print(\"The Addition of a and b is =\",a+b)\n",
    "print(\"The Substraction of a and b is =\",a-b)\n",
    "print(\"The Multiplication of a and b is =\",a*b)\n",
    "print(\"The Division of a and b is =\",a/b)\n",
    "print(\"The Modulus of a and b is =\",a%b)\n",
    "print(\"The Floor division of a and b is =\",a//b)\n"
   ]
  },
  {
   "cell_type": "code",
   "execution_count": null,
   "id": "adab5276-cd54-4548-9239-86fb60ddcf88",
   "metadata": {},
   "outputs": [],
   "source": []
  }
 ],
 "metadata": {
  "kernelspec": {
   "display_name": "Python 3 (ipykernel)",
   "language": "python",
   "name": "python3"
  },
  "language_info": {
   "codemirror_mode": {
    "name": "ipython",
    "version": 3
   },
   "file_extension": ".py",
   "mimetype": "text/x-python",
   "name": "python",
   "nbconvert_exporter": "python",
   "pygments_lexer": "ipython3",
   "version": "3.13.7"
  }
 },
 "nbformat": 4,
 "nbformat_minor": 5
}
