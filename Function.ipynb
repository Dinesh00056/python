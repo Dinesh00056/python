{
 "cells": [
  {
   "cell_type": "code",
   "execution_count": 1,
   "id": "acbc99b0-23c9-4ee0-ad4a-4749309930cf",
   "metadata": {},
   "outputs": [],
   "source": [
    "# Functions in python\n",
    "# Functions are reusable block of code"
   ]
  },
  {
   "cell_type": "code",
   "execution_count": 3,
   "id": "bed0cabb-5929-438e-8efb-cd7c77892964",
   "metadata": {},
   "outputs": [],
   "source": [
    "# Types of functions\n",
    "# (a). Predefined function------> print(),sum(),main(),max(),append()....\n",
    "# (b)Manually crested function....>\n",
    "# step-1 def\n",
    "# step-2 name of function\n",
    "# step-3 lofic for create the functions\n",
    "# step-4 call the function(name of function)\n"
   ]
  },
  {
   "cell_type": "code",
   "execution_count": 4,
   "id": "e2f5d681-4441-4139-aa7d-1331b399d2f2",
   "metadata": {},
   "outputs": [],
   "source": [
    "# syntax:\n",
    "# def Name_of_function\n",
    "#   logic\n",
    "# Name_of_function()"
   ]
  },
  {
   "cell_type": "code",
   "execution_count": 2,
   "id": "beab295f-85fc-4a7d-a869-e92f58dfb69f",
   "metadata": {},
   "outputs": [
    {
     "name": "stdout",
     "output_type": "stream",
     "text": [
      "Total =  11\n"
     ]
    }
   ],
   "source": [
    "# Q.1 Create a function who add 2 numbers ?\n",
    "def my_add():\n",
    "  a = 5\n",
    "  b = 6\n",
    "  c = a + b\n",
    "  print(\"Total = \" , c)\n",
    "my_add()\n"
   ]
  },
  {
   "cell_type": "code",
   "execution_count": 9,
   "id": "9443e5f7-a7b7-489c-ba9d-298564c4bda2",
   "metadata": {},
   "outputs": [
    {
     "name": "stdout",
     "output_type": "stream",
     "text": [
      "total= 14\n"
     ]
    }
   ],
   "source": [
    "#Q.2 create a function who add sum of square of a given number\n",
    "i=1\n",
    "n=3\n",
    "sum=0\n",
    "while(i<=n):\n",
    "    sum=sum+i**2\n",
    "    i=i+1\n",
    "print(\"total=\",sum)"
   ]
  },
  {
   "cell_type": "code",
   "execution_count": 10,
   "id": "3d1797d3-3caf-4739-94ad-6e288e44be44",
   "metadata": {},
   "outputs": [],
   "source": [
    "# i=1,2,3\n",
    "# 1**2+2**2+3**2= 1+4+9=14"
   ]
  },
  {
   "cell_type": "code",
   "execution_count": 11,
   "id": "de4db938-3274-449d-ae8e-2c1712cfaf98",
   "metadata": {},
   "outputs": [
    {
     "name": "stdout",
     "output_type": "stream",
     "text": [
      "total= 14\n"
     ]
    }
   ],
   "source": [
    "def my_squ():\n",
    "    i=1\n",
    "    n=3\n",
    "    sum=0\n",
    "    while(i<=n):\n",
    "        sum=sum+i**2\n",
    "        i=i+1\n",
    "    print(\"total=\",sum)\n",
    "my_squ()"
   ]
  },
  {
   "cell_type": "code",
   "execution_count": 12,
   "id": "bc00107f-b0e1-4e8e-abf6-db22b8837bcf",
   "metadata": {},
   "outputs": [
    {
     "name": "stdout",
     "output_type": "stream",
     "text": [
      "total= 10\n"
     ]
    }
   ],
   "source": [
    "i=1234\n",
    "sum=0\n",
    "while(i>0):\n",
    "    d=i%10\n",
    "    sum=sum+d\n",
    "    i=i//10\n",
    "print(\"total=\",sum)"
   ]
  },
  {
   "cell_type": "code",
   "execution_count": 13,
   "id": "ae8d67d3-0089-404e-805e-b9ec1dc6f13a",
   "metadata": {},
   "outputs": [],
   "source": [
    "# i=1=2=3=4=10"
   ]
  },
  {
   "cell_type": "code",
   "execution_count": 16,
   "id": "7ab2246d-fd1b-4c3d-9a16-8568ef866bae",
   "metadata": {},
   "outputs": [
    {
     "name": "stdin",
     "output_type": "stream",
     "text": [
      "enter a number: 1234\n"
     ]
    },
    {
     "name": "stdout",
     "output_type": "stream",
     "text": [
      "Sum= 10\n"
     ]
    }
   ],
   "source": [
    "# Q.2 create a function in which user will give a number and we have to calculate sum of this number\n",
    "def my_add():\n",
    "    i=int(input(\"enter a number:\"))\n",
    "    sum=0\n",
    "    while(i>0):\n",
    "        d=i%10\n",
    "        sum=sum+d\n",
    "        i=i//10\n",
    "    print(\"Sum=\",sum)\n",
    "my_add()"
   ]
  },
  {
   "cell_type": "code",
   "execution_count": 17,
   "id": "f6143d75-78a1-44af-8b68-11e8bd446bbe",
   "metadata": {},
   "outputs": [],
   "source": [
    "# Arguments and Parameters\n",
    "\n",
    "# Parameter ---> These are the values which we passes when we create a function\n",
    "# Arguments ---> These are the values which we passes when we call a function\n"
   ]
  },
  {
   "cell_type": "code",
   "execution_count": 18,
   "id": "e10cee16-b629-44f0-9155-cfd8dc28f888",
   "metadata": {},
   "outputs": [
    {
     "name": "stdout",
     "output_type": "stream",
     "text": [
      "total= 7\n"
     ]
    }
   ],
   "source": [
    "def my_add(a,b):\n",
    "    c=a+b\n",
    "    print(\"total=\",c)\n",
    "my_add(3,4)\n",
    " # here (a,b) ...> Parameters , (3,4)---> Arguments"
   ]
  },
  {
   "cell_type": "markdown",
   "id": "a555b205-9bab-4352-b385-90d63966987b",
   "metadata": {},
   "source": [
    "#Q.2 write a program who can chech the given no is even or odd\n",
    "def oddeve()\""
   ]
  },
  {
   "cell_type": "code",
   "execution_count": 1,
   "id": "89c774a8-54fd-4866-833c-45f926b77867",
   "metadata": {},
   "outputs": [
    {
     "name": "stdin",
     "output_type": "stream",
     "text": [
      "enter number: 123\n"
     ]
    },
    {
     "name": "stdout",
     "output_type": "stream",
     "text": [
      "odd number\n"
     ]
    }
   ],
   "source": [
    "# write a program who can chech the given no is even or odd def oddeve()\"\n",
    "def oddeve():\n",
    "    i=int(input(\"enter number:\"))\n",
    "    if(i%2==0):\n",
    "        print(\"even number\")\n",
    "    else:\n",
    "        print(\"odd number\")\n",
    "oddeve()"
   ]
  },
  {
   "cell_type": "code",
   "execution_count": 2,
   "id": "fdb43d1d-1d43-4e9f-b423-bc27ed56f5ec",
   "metadata": {},
   "outputs": [
    {
     "name": "stdin",
     "output_type": "stream",
     "text": [
      "Enter number: 124\n"
     ]
    },
    {
     "name": "stdout",
     "output_type": "stream",
     "text": [
      "Even Number\n"
     ]
    }
   ],
   "source": [
    "def oddeve(a):\n",
    "  if(a%2==0):\n",
    "    print(\"Even Number\")\n",
    "  else:\n",
    "    print(\"Odd Number\")\n",
    "p= int(input(\"Enter number:\"))\n",
    "oddeve(p)\n",
    "\n",
    "### here (a) ---> Parameter , (49 , p) ----> Argument"
   ]
  },
  {
   "cell_type": "code",
   "execution_count": null,
   "id": "842a7c07-e2b3-4406-9c7f-259186678ca8",
   "metadata": {},
   "outputs": [],
   "source": []
  }
 ],
 "metadata": {
  "kernelspec": {
   "display_name": "Python 3 (ipykernel)",
   "language": "python",
   "name": "python3"
  },
  "language_info": {
   "codemirror_mode": {
    "name": "ipython",
    "version": 3
   },
   "file_extension": ".py",
   "mimetype": "text/x-python",
   "name": "python",
   "nbconvert_exporter": "python",
   "pygments_lexer": "ipython3",
   "version": "3.13.3"
  }
 },
 "nbformat": 4,
 "nbformat_minor": 5
}
